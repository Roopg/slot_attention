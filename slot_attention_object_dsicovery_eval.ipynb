{
  "nbformat": 4,
  "nbformat_minor": 0,
  "metadata": {
    "colab": {
      "provenance": []
    },
    "kernelspec": {
      "name": "python3",
      "display_name": "Python 3"
    },
    "language_info": {
      "name": "python"
    }
  },
  "cells": [
    {
      "cell_type": "markdown",
      "source": [
        "NOTE: Executing the code (training or evaluation) for the first time will download the full CLEVR dataset (17.7GB)."
      ],
      "metadata": {
        "id": "8k_MUHDbO5A7"
      }
    },
    {
      "cell_type": "code",
      "execution_count": null,
      "metadata": {
        "id": "tDp1MH691TSx"
      },
      "outputs": [],
      "source": [
        "\n",
        "# Requirements: Python 3.x, TensorFlow 2.x, TensorFlow Datasets\n",
        "\n",
        "from absl import logging\n",
        "import tensorflow as tf\n",
        "import tensorflow_datasets as tfds\n",
        "import matplotlib.pyplot as plt\n",
        "\n",
        "# When executing this notebook out of a subfolder, use the command below to\n",
        "# change to the project's root folder (required for imports):\n",
        "# %cd ..\n",
        "\n",
        "import slot_attention.data as data_utils\n",
        "import slot_attention.model as model_utils\n",
        ""
      ]
    },
    {
      "cell_type": "code",
      "source": [
        "\n",
        "\n",
        "# Hyperparameters.\n",
        "seed = 0\n",
        "batch_size = 1\n",
        "num_slots = 7\n",
        "num_iterations = 3\n",
        "resolution = (128, 128)\n",
        "ckpt_path = \"/tmp/object_discovery/\"  # Path to model checkpoint."
      ],
      "metadata": {
        "id": "VR2j_k2EObpf"
      },
      "execution_count": null,
      "outputs": []
    },
    {
      "cell_type": "code",
      "source": [
        "\n",
        "def load_model(checkpoint_dir, num_slots=11, num_iters=3, batch_size=16):\n",
        "  resolution = (128, 128)\n",
        "  model = model_utils.build_model(\n",
        "      resolution, batch_size, num_slots, num_iters,\n",
        "      model_type=\"object_discovery\")\n",
        "\n",
        "  ckpt = tf.train.Checkpoint(network=model)\n",
        "  ckpt_manager = tf.train.CheckpointManager(\n",
        "      ckpt, directory=checkpoint_dir, max_to_keep=5)\n",
        "\n",
        "  if ckpt_manager.latest_checkpoint:\n",
        "    ckpt.restore(ckpt_manager.latest_checkpoint)\n",
        "    logging.info(\"Restored from %s\", ckpt_manager.latest_checkpoint)\n",
        "\n",
        "  return model\n",
        ""
      ],
      "metadata": {
        "id": "yB7vYIP3OclW"
      },
      "execution_count": null,
      "outputs": []
    },
    {
      "cell_type": "code",
      "source": [
        "\n",
        "# Build dataset iterators, optimizers and model.\n",
        "tf.random.set_seed(seed)\n",
        "data_iterator = data_utils.build_clevr_iterator(\n",
        "    batch_size, split=\"validation\", resolution=resolution, shuffle=True,\n",
        "    max_n_objects=6, get_properties=False, apply_crop=True)\n",
        "\n",
        "model = load_model(ckpt_path, num_slots=num_slots, num_iters=num_iterations,\n",
        "                   batch_size=batch_size)"
      ],
      "metadata": {
        "id": "MuzD2WtyOh8L"
      },
      "execution_count": null,
      "outputs": []
    },
    {
      "cell_type": "code",
      "source": [
        "def renormalize(x):\n",
        "  \"\"\"Renormalize from [-1, 1] to [0, 1].\"\"\"\n",
        "  return x / 2. + 0.5\n",
        "\n",
        "def get_prediction(model, batch, idx=0):\n",
        "  recon_combined, recons, masks, slots = model(batch[\"image\"])\n",
        "  image = renormalize(batch[\"image\"])[idx]\n",
        "  recon_combined = renormalize(recon_combined)[idx]\n",
        "  recons = renormalize(recons)[idx]\n",
        "  masks = masks[idx]\n",
        "  return image, recon_combined, recons, masks, slots"
      ],
      "metadata": {
        "id": "E6A41iouOqJh"
      },
      "execution_count": null,
      "outputs": []
    },
    {
      "cell_type": "code",
      "source": [
        "\n",
        "# Get new batch.\n",
        "batch = next(data_iterator)"
      ],
      "metadata": {
        "id": "ZEe5I_y0OsyD"
      },
      "execution_count": null,
      "outputs": []
    },
    {
      "cell_type": "code",
      "source": [
        "# Predict.\n",
        "image, recon_combined, recons, masks, slots = get_prediction(model, batch)\n",
        ""
      ],
      "metadata": {
        "id": "H-uTk_HVOtpH"
      },
      "execution_count": null,
      "outputs": []
    },
    {
      "cell_type": "code",
      "source": [
        "# Visualize.\n",
        "num_slots = len(masks)\n",
        "fig, ax = plt.subplots(1, num_slots + 2, figsize=(15, 2))\n",
        "ax[0].imshow(image)\n",
        "ax[0].set_title('Image')\n",
        "ax[1].imshow(recon_combined)\n",
        "ax[1].set_title('Recon.')\n",
        "for i in range(num_slots):\n",
        "  ax[i + 2].imshow(recons[i] * masks[i] + (1 - masks[i]))\n",
        "  ax[i + 2].set_title('Slot %s' % str(i + 1))\n",
        "for i in range(len(ax)):\n",
        "  ax[i].grid(False)\n",
        "  ax[i].axis('off')"
      ],
      "metadata": {
        "id": "VsxJBRsLOxh0"
      },
      "execution_count": null,
      "outputs": []
    }
  ]
}